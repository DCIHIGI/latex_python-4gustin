{
 "cells": [
  {
   "cell_type": "markdown",
   "metadata": {},
   "source": [
    "# PREDICCIÓN DE CASILLAS INE"
   ]
  },
  {
   "cell_type": "code",
   "execution_count": 1,
   "metadata": {},
   "outputs": [],
   "source": [
    "# Carga de librerias\n",
    "import pandas as pd\n",
    "import numpy as np\n",
    "import os\n",
    "import glob"
   ]
  },
  {
   "cell_type": "markdown",
   "metadata": {},
   "source": [
    "## DEFINICION DE FUNCIONES"
   ]
  },
  {
   "cell_type": "code",
   "execution_count": 2,
   "metadata": {},
   "outputs": [],
   "source": [
    "# Características de archivo\n",
    "def carac_file(name_file, estado):\n",
    "    archivo   = pd.read_csv(name_file, low_memory = False)\n",
    "    file      = archivo.query(f'ENTIDAD == {estado}')\n",
    "    \n",
    "    if \"LISTA_NAL\" in file:\n",
    "        name_col = \"LISTA_NAL\"\n",
    "    elif \"LISTA\" in file:\n",
    "        name_col = \"LISTA\"\n",
    "    else:\n",
    "        name_col = \"LISTA_NACIONAL\"\n",
    "    \n",
    "    return file, name_col"
   ]
  },
  {
   "cell_type": "code",
   "execution_count": 3,
   "metadata": {},
   "outputs": [],
   "source": [
    "# Filtrar datos del estado de guanajuato\n",
    "def filtro(name_file, estado = 11, municipios = 46):\n",
    "    file, columna = carac_file(name_file, estado)\n",
    "    sumatoria     = np.array([], dtype = int) \n",
    "            \n",
    "    for i in range(1, municipios + 1):\n",
    "        suma_parcial = file.query(f\"MUNICIPIO == {i}\")[columna].sum()\n",
    "        sumatoria    = np.append(sumatoria, suma_parcial)\n",
    "  \n",
    "    return  sumatoria "
   ]
  },
  {
   "cell_type": "code",
   "execution_count": 4,
   "metadata": {},
   "outputs": [],
   "source": [
    "# Condensación de datos (lista nominal por municipios)\n",
    "def tabla_municipio(arc_names):\n",
    "    table = pd.DataFrame()\n",
    "    for name_file in arc_names:\n",
    "        columna = filtro(name_file)\n",
    "        table[name_file[:7]] = columna \n",
    "    return table"
   ]
  },
  {
   "cell_type": "code",
   "execution_count": 16,
   "metadata": {},
   "outputs": [],
   "source": [
    "# Devuelve la tasa y los coeficientes del ajuste si se le indica \n",
    "def ajuste_tasa(data_mun, mes = 24, dev_coef = False):       # Febrero es el mes 24 de acuerdo \n",
    "    n_meses = np.arange(len(data_mun.columns))               # a la cantidad de meses descargados\n",
    "    coeficientes = []\n",
    "    tasa = []\n",
    "    \n",
    "    for i in range(len(data_mun.index)):\n",
    "        lineal = np.polyfit(n_meses, data_mun.iloc[i].values.copy(),1)\n",
    "        coeficientes.append(lineal)\n",
    "        list_feb =  lineal[0] * mes + lineal[1]\n",
    "        list_dic = data_mun[data_mun.columns[-1]][i]\n",
    "        tasa.append(list_feb / list_dic)\n",
    "        \n",
    "    if dev_coef:\n",
    "        return np.array(coeficientes)\n",
    "    \n",
    "    return tasa"
   ]
  },
  {
   "cell_type": "code",
   "execution_count": 14,
   "metadata": {},
   "outputs": [],
   "source": [
    "# Determinación de número de casillas \n",
    "def casillas(name_file, tasa = np.ones(46), estado = 11):\n",
    "    file, columna = carac_file(name_file, estado)\n",
    "    \n",
    "    secciones = []     \n",
    "    for i in range(1,len(tasa)+1):\n",
    "        secciones += list(((np.round(file.query(f\"MUNICIPIO == {i}\").sort_values('SECCION')[columna][:]) * tasa[i-1]) / 750) + 1)\n",
    "    return  np.sum(np.array(secciones).astype(int))"
   ]
  },
  {
   "cell_type": "markdown",
   "metadata": {},
   "source": [
    "## ESTRUCTURA "
   ]
  },
  {
   "cell_type": "code",
   "execution_count": 7,
   "metadata": {},
   "outputs": [],
   "source": [
    "# Ejecutar solo una vez!!!!\n",
    "# Cambio de directorio\n",
    "directorio = os.getcwd()+\"\\\\Data INE\"\n",
    "os.chdir(directorio)\n",
    "files = glob.glob('*.csv')"
   ]
  },
  {
   "cell_type": "code",
   "execution_count": 9,
   "metadata": {},
   "outputs": [],
   "source": [
    "fdiciembre = files[-1] "
   ]
  },
  {
   "cell_type": "markdown",
   "metadata": {},
   "source": [
    "#### LLAMADA A FUNCIONES"
   ]
  },
  {
   "cell_type": "code",
   "execution_count": 21,
   "metadata": {},
   "outputs": [
    {
     "name": "stdout",
     "output_type": "stream",
     "text": [
      "**PROYECCIÓN DE CASILLAS**\n",
      "\n",
      "Número de casillas a instalar: 7630\n"
     ]
    }
   ],
   "source": [
    "data_municipio = tabla_municipio(files\n",
    "tasa = ajuste_tasa(data_municipio)\n",
    "\n",
    "print(\"**PROYECCIÓN DE CASILLAS**\\n\")\n",
    "print(f\"Número de casillas a instalar: {casillas(fdiciembre, tasa)}\")"
   ]
  }
 ],
 "metadata": {
  "kernelspec": {
   "display_name": "Python 3",
   "language": "python",
   "name": "python3"
  },
  "language_info": {
   "codemirror_mode": {
    "name": "ipython",
    "version": 3
   },
   "file_extension": ".py",
   "mimetype": "text/x-python",
   "name": "python",
   "nbconvert_exporter": "python",
   "pygments_lexer": "ipython3",
   "version": "3.8.5"
  }
 },
 "nbformat": 4,
 "nbformat_minor": 4
}
